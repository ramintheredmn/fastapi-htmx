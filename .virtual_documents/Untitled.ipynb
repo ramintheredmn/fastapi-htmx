import requests


data = requests.get("127.0.0.1:8000/api/raw_data/reza1379")



